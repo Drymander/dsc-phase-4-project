{
 "cells": [
  {
   "cell_type": "markdown",
   "metadata": {},
   "source": [
    "# Packages"
   ]
  },
  {
   "cell_type": "code",
   "execution_count": 1,
   "metadata": {
    "ExecuteTime": {
     "end_time": "2021-06-18T20:16:19.817918Z",
     "start_time": "2021-06-18T20:16:19.790911Z"
    }
   },
   "outputs": [
    {
     "name": "stderr",
     "output_type": "stream",
     "text": [
      "[nltk_data] Downloading package punkt to\n",
      "[nltk_data]     C:\\Users\\johnn\\AppData\\Roaming\\nltk_data...\n",
      "[nltk_data]   Package punkt is already up-to-date!\n",
      "[nltk_data] Downloading package stopwords to\n",
      "[nltk_data]     C:\\Users\\johnn\\AppData\\Roaming\\nltk_data...\n",
      "[nltk_data]   Package stopwords is already up-to-date!\n"
     ]
    },
    {
     "data": {
      "text/plain": [
       "True"
      ]
     },
     "execution_count": 1,
     "metadata": {},
     "output_type": "execute_result"
    }
   ],
   "source": [
    "#Standard python libraries\n",
    "import pandas as pd\n",
    "import seaborn as sns\n",
    "import matplotlib.pyplot as plt\n",
    "import numpy as np\n",
    "import warnings\n",
    "warnings.filterwarnings(action='ignore') \n",
    "\n",
    "# Preprocessing tools\n",
    "from sklearn.model_selection import train_test_split,cross_val_predict,cross_validate\n",
    "from sklearn.preprocessing import MinMaxScaler,StandardScaler,OneHotEncoder\n",
    "scaler = StandardScaler()\n",
    "from sklearn import metrics\n",
    "\n",
    "# # Models & Utilities\n",
    "from sklearn.dummy import DummyClassifier\n",
    "from sklearn.linear_model import LogisticRegression,LogisticRegressionCV\n",
    "from sklearn.ensemble import RandomForestClassifier\n",
    "from sklearn.model_selection import train_test_split\n",
    "from sklearn.linear_model import LogisticRegression\n",
    "from sklearn.metrics import classification_report\n",
    "from sklearn.model_selection import cross_val_score\n",
    "from xgboost import XGBClassifier\n",
    "from sklearn.model_selection import GridSearchCV\n",
    "from sklearn.metrics import plot_confusion_matrix\n",
    "from sklearn.metrics import accuracy_score, confusion_matrix, classification_report, precision_score, recall_score, f1_score\n",
    "\n",
    "# Warnings\n",
    "import warnings\n",
    "warnings.filterwarnings(action='ignore') \n",
    "\n",
    "# NLP Libraries\n",
    "import nltk\n",
    "import collections\n",
    "nltk.download('punkt')\n",
    "from sklearn.manifold import TSNE\n",
    "from nltk.tokenize import word_tokenize\n",
    "np.random.seed(0)\n",
    "import re\n",
    "from nltk.corpus import stopwords\n",
    "from nltk.collocations import *\n",
    "from nltk import FreqDist\n",
    "from nltk import word_tokenize\n",
    "from nltk import ngrams\n",
    "import string\n",
    "from sklearn.feature_extraction.text import TfidfVectorizer\n",
    "from sklearn.metrics import accuracy_score\n",
    "from sklearn.datasets import fetch_20newsgroups\n",
    "from sklearn.ensemble import RandomForestClassifier\n",
    "from sklearn.naive_bayes import MultinomialNB\n",
    "\n",
    "# Added\n",
    "nltk.download('stopwords')\n"
   ]
  },
  {
   "cell_type": "code",
   "execution_count": 2,
   "metadata": {
    "ExecuteTime": {
     "end_time": "2021-06-18T17:05:34.550328Z",
     "start_time": "2021-06-18T17:05:33.918282Z"
    }
   },
   "outputs": [
    {
     "data": {
      "text/html": [
       "<div>\n",
       "<style scoped>\n",
       "    .dataframe tbody tr th:only-of-type {\n",
       "        vertical-align: middle;\n",
       "    }\n",
       "\n",
       "    .dataframe tbody tr th {\n",
       "        vertical-align: top;\n",
       "    }\n",
       "\n",
       "    .dataframe thead th {\n",
       "        text-align: right;\n",
       "    }\n",
       "</style>\n",
       "<table border=\"1\" class=\"dataframe\">\n",
       "  <thead>\n",
       "    <tr style=\"text-align: right;\">\n",
       "      <th></th>\n",
       "      <th>review</th>\n",
       "      <th>sentiment</th>\n",
       "    </tr>\n",
       "  </thead>\n",
       "  <tbody>\n",
       "    <tr>\n",
       "      <th>0</th>\n",
       "      <td>One of the other reviewers has mentioned that ...</td>\n",
       "      <td>positive</td>\n",
       "    </tr>\n",
       "    <tr>\n",
       "      <th>1</th>\n",
       "      <td>A wonderful little production. &lt;br /&gt;&lt;br /&gt;The...</td>\n",
       "      <td>positive</td>\n",
       "    </tr>\n",
       "    <tr>\n",
       "      <th>2</th>\n",
       "      <td>I thought this was a wonderful way to spend ti...</td>\n",
       "      <td>positive</td>\n",
       "    </tr>\n",
       "    <tr>\n",
       "      <th>3</th>\n",
       "      <td>Basically there's a family where a little boy ...</td>\n",
       "      <td>negative</td>\n",
       "    </tr>\n",
       "    <tr>\n",
       "      <th>4</th>\n",
       "      <td>Petter Mattei's \"Love in the Time of Money\" is...</td>\n",
       "      <td>positive</td>\n",
       "    </tr>\n",
       "  </tbody>\n",
       "</table>\n",
       "</div>"
      ],
      "text/plain": [
       "                                              review sentiment\n",
       "0  One of the other reviewers has mentioned that ...  positive\n",
       "1  A wonderful little production. <br /><br />The...  positive\n",
       "2  I thought this was a wonderful way to spend ti...  positive\n",
       "3  Basically there's a family where a little boy ...  negative\n",
       "4  Petter Mattei's \"Love in the Time of Money\" is...  positive"
      ]
     },
     "execution_count": 2,
     "metadata": {},
     "output_type": "execute_result"
    }
   ],
   "source": [
    "df = pd.read_csv('data/IMDB Dataset.csv')\n",
    "\n",
    "df.head()"
   ]
  },
  {
   "cell_type": "code",
   "execution_count": 3,
   "metadata": {
    "ExecuteTime": {
     "end_time": "2021-06-18T17:05:34.597297Z",
     "start_time": "2021-06-18T17:05:34.553312Z"
    }
   },
   "outputs": [
    {
     "name": "stdout",
     "output_type": "stream",
     "text": [
      "<class 'pandas.core.frame.DataFrame'>\n",
      "RangeIndex: 50000 entries, 0 to 49999\n",
      "Data columns (total 2 columns):\n",
      " #   Column     Non-Null Count  Dtype \n",
      "---  ------     --------------  ----- \n",
      " 0   review     50000 non-null  object\n",
      " 1   sentiment  50000 non-null  object\n",
      "dtypes: object(2)\n",
      "memory usage: 781.4+ KB\n",
      "None\n",
      "review       0\n",
      "sentiment    0\n",
      "dtype: int64\n"
     ]
    }
   ],
   "source": [
    "# Taking a look at our columns\n",
    "print(df.info())\n",
    "\n",
    "# Checking for NA data\n",
    "print(df.isna().sum())"
   ]
  },
  {
   "cell_type": "code",
   "execution_count": 4,
   "metadata": {
    "ExecuteTime": {
     "end_time": "2021-06-18T17:05:34.628301Z",
     "start_time": "2021-06-18T17:05:34.599297Z"
    }
   },
   "outputs": [
    {
     "data": {
      "text/plain": [
       "positive    25000\n",
       "negative    25000\n",
       "Name: sentiment, dtype: int64"
      ]
     },
     "execution_count": 4,
     "metadata": {},
     "output_type": "execute_result"
    }
   ],
   "source": [
    "df['sentiment'].value_counts()"
   ]
  },
  {
   "cell_type": "code",
   "execution_count": 5,
   "metadata": {
    "ExecuteTime": {
     "end_time": "2021-06-18T17:05:34.784238Z",
     "start_time": "2021-06-18T17:05:34.631287Z"
    }
   },
   "outputs": [
    {
     "data": {
      "text/html": [
       "<div>\n",
       "<style scoped>\n",
       "    .dataframe tbody tr th:only-of-type {\n",
       "        vertical-align: middle;\n",
       "    }\n",
       "\n",
       "    .dataframe tbody tr th {\n",
       "        vertical-align: top;\n",
       "    }\n",
       "\n",
       "    .dataframe thead th {\n",
       "        text-align: right;\n",
       "    }\n",
       "</style>\n",
       "<table border=\"1\" class=\"dataframe\">\n",
       "  <thead>\n",
       "    <tr style=\"text-align: right;\">\n",
       "      <th></th>\n",
       "      <th>review</th>\n",
       "      <th>sentiment</th>\n",
       "    </tr>\n",
       "  </thead>\n",
       "  <tbody>\n",
       "    <tr>\n",
       "      <th>count</th>\n",
       "      <td>50000</td>\n",
       "      <td>50000</td>\n",
       "    </tr>\n",
       "    <tr>\n",
       "      <th>unique</th>\n",
       "      <td>49582</td>\n",
       "      <td>2</td>\n",
       "    </tr>\n",
       "    <tr>\n",
       "      <th>top</th>\n",
       "      <td>Loved today's show!!! It was a variety and not...</td>\n",
       "      <td>positive</td>\n",
       "    </tr>\n",
       "    <tr>\n",
       "      <th>freq</th>\n",
       "      <td>5</td>\n",
       "      <td>25000</td>\n",
       "    </tr>\n",
       "  </tbody>\n",
       "</table>\n",
       "</div>"
      ],
      "text/plain": [
       "                                                   review sentiment\n",
       "count                                               50000     50000\n",
       "unique                                              49582         2\n",
       "top     Loved today's show!!! It was a variety and not...  positive\n",
       "freq                                                    5     25000"
      ]
     },
     "execution_count": 5,
     "metadata": {},
     "output_type": "execute_result"
    }
   ],
   "source": [
    "df.describe()"
   ]
  },
  {
   "cell_type": "markdown",
   "metadata": {},
   "source": [
    "### remove duplicates?\n",
    "\n",
    "### change pos to 1 and neg to 0"
   ]
  },
  {
   "cell_type": "markdown",
   "metadata": {},
   "source": [
    "## Add features"
   ]
  },
  {
   "cell_type": "code",
   "execution_count": 6,
   "metadata": {
    "ExecuteTime": {
     "end_time": "2021-06-18T17:05:35.704956Z",
     "start_time": "2021-06-18T17:05:34.787237Z"
    }
   },
   "outputs": [
    {
     "data": {
      "text/html": [
       "<div>\n",
       "<style scoped>\n",
       "    .dataframe tbody tr th:only-of-type {\n",
       "        vertical-align: middle;\n",
       "    }\n",
       "\n",
       "    .dataframe tbody tr th {\n",
       "        vertical-align: top;\n",
       "    }\n",
       "\n",
       "    .dataframe thead th {\n",
       "        text-align: right;\n",
       "    }\n",
       "</style>\n",
       "<table border=\"1\" class=\"dataframe\">\n",
       "  <thead>\n",
       "    <tr style=\"text-align: right;\">\n",
       "      <th></th>\n",
       "      <th>review</th>\n",
       "      <th>sentiment</th>\n",
       "      <th>count_sent</th>\n",
       "      <th>count_word</th>\n",
       "      <th>count_unique_word</th>\n",
       "      <th>count_letters</th>\n",
       "      <th>count_punctuations</th>\n",
       "      <th>count_words_upper</th>\n",
       "      <th>count_words_title</th>\n",
       "      <th>count_stopwords</th>\n",
       "      <th>mean_word_len</th>\n",
       "      <th>word_unique_percent</th>\n",
       "      <th>punct_percent</th>\n",
       "    </tr>\n",
       "  </thead>\n",
       "  <tbody>\n",
       "    <tr>\n",
       "      <th>0</th>\n",
       "      <td>One of the other reviewers has mentioned that ...</td>\n",
       "      <td>positive</td>\n",
       "      <td>1</td>\n",
       "      <td>307</td>\n",
       "      <td>208</td>\n",
       "      <td>1761</td>\n",
       "      <td>78</td>\n",
       "      <td>8</td>\n",
       "      <td>36</td>\n",
       "      <td>133</td>\n",
       "      <td>4.739414</td>\n",
       "      <td>67.752443</td>\n",
       "      <td>25.407166</td>\n",
       "    </tr>\n",
       "    <tr>\n",
       "      <th>1</th>\n",
       "      <td>A wonderful little production. &lt;br /&gt;&lt;br /&gt;The...</td>\n",
       "      <td>positive</td>\n",
       "      <td>1</td>\n",
       "      <td>162</td>\n",
       "      <td>114</td>\n",
       "      <td>998</td>\n",
       "      <td>44</td>\n",
       "      <td>2</td>\n",
       "      <td>12</td>\n",
       "      <td>66</td>\n",
       "      <td>5.166667</td>\n",
       "      <td>70.370370</td>\n",
       "      <td>27.160494</td>\n",
       "    </tr>\n",
       "  </tbody>\n",
       "</table>\n",
       "</div>"
      ],
      "text/plain": [
       "                                              review sentiment  count_sent  \\\n",
       "0  One of the other reviewers has mentioned that ...  positive           1   \n",
       "1  A wonderful little production. <br /><br />The...  positive           1   \n",
       "\n",
       "   count_word  count_unique_word  count_letters  count_punctuations  \\\n",
       "0         307                208           1761                  78   \n",
       "1         162                114            998                  44   \n",
       "\n",
       "   count_words_upper  count_words_title  count_stopwords  mean_word_len  \\\n",
       "0                  8                 36              133       4.739414   \n",
       "1                  2                 12               66       5.166667   \n",
       "\n",
       "   word_unique_percent  punct_percent  \n",
       "0            67.752443      25.407166  \n",
       "1            70.370370      27.160494  "
      ]
     },
     "execution_count": 6,
     "metadata": {},
     "output_type": "execute_result"
    }
   ],
   "source": [
    "run = False\n",
    "\n",
    "if run == True:\n",
    "\n",
    "    ## Indirect features\n",
    "    eng_stopwords = set(stopwords.words(\"english\"))\n",
    "\n",
    "    df['count_sent']=df[\"review\"].apply(lambda x: len(re.findall(\"\\n\",str(x)))+1)\n",
    "    #Word count in each comment:\n",
    "    df['count_word']=df[\"review\"].apply(lambda x: len(str(x).split()))\n",
    "    #Unique word count\n",
    "    df['count_unique_word']=df[\"review\"].apply(lambda x: len(set(str(x).split())))\n",
    "    #Letter count\n",
    "    df['count_letters']=df[\"review\"].apply(lambda x: len(str(x)))\n",
    "    #punctuation count\n",
    "    df[\"count_punctuations\"] =df[\"review\"].apply(lambda x: len([c for c in str(x) if c in string.punctuation]))\n",
    "    #upper case words count\n",
    "    df[\"count_words_upper\"] = df[\"review\"].apply(lambda x: len([w for w in str(x).split() if w.isupper()]))\n",
    "    #title case words count\n",
    "    df[\"count_words_title\"] = df[\"review\"].apply(lambda x: len([w for w in str(x).split() if w.istitle()]))\n",
    "    #Number of stopwords\n",
    "    df[\"count_stopwords\"] = df[\"review\"].apply(lambda x: len([w for w in str(x).lower().split() if w in eng_stopwords]))\n",
    "    #Average length of the words\n",
    "    df[\"mean_word_len\"] = df[\"review\"].apply(lambda x: np.mean([len(w) for w in str(x).split()]))\n",
    "    #Word count percent in each comment:\n",
    "    df['word_unique_percent']=df['count_unique_word']*100/df['count_word']\n",
    "    #Punct percent in each comment:\n",
    "    df['punct_percent']=df['count_punctuations']*100/df['count_word']\n",
    "    #derived features\n",
    "    #Word count percent in each comment:\n",
    "    df['word_unique_percent']=df['count_unique_word']*100/df['count_word']\n",
    "    #derived features\n",
    "    #Punct percent in each comment:\n",
    "    df['punct_percent']=df['count_punctuations']*100/df['count_word']\n",
    "    \n",
    "    df.to_json('data/df_json_store.json')\n",
    "    \n",
    "else:\n",
    "     df = pd.read_json('data/df_json_store.json')\n",
    "        \n",
    "df.head(2)"
   ]
  },
  {
   "cell_type": "code",
   "execution_count": null,
   "metadata": {},
   "outputs": [],
   "source": []
  },
  {
   "cell_type": "code",
   "execution_count": null,
   "metadata": {},
   "outputs": [],
   "source": []
  },
  {
   "cell_type": "code",
   "execution_count": null,
   "metadata": {},
   "outputs": [],
   "source": []
  },
  {
   "cell_type": "markdown",
   "metadata": {},
   "source": [
    "### 25 most common words in positive and negative reviews"
   ]
  },
  {
   "cell_type": "code",
   "execution_count": 7,
   "metadata": {
    "ExecuteTime": {
     "end_time": "2021-06-18T17:05:35.720939Z",
     "start_time": "2021-06-18T17:05:35.707942Z"
    }
   },
   "outputs": [],
   "source": [
    "\n",
    "# ax = neg_freq_df.set_index('Word').sort_values('Frequency').plot(kind='barh')\n",
    "# ax.set(title=\"25 Most Common Words in Negative Tweets\")"
   ]
  },
  {
   "cell_type": "markdown",
   "metadata": {},
   "source": [
    "### Word clouds pos / neg"
   ]
  },
  {
   "cell_type": "markdown",
   "metadata": {},
   "source": [
    "### visualize TSNE\n",
    "\n",
    "### mean word length postive or negative?.  bucket and histogram?\n",
    "\n",
    "### Same with word unique percentage\n",
    "\n",
    "Sentiment across word count\n",
    "\n",
    "Word count histogram\n",
    "\n"
   ]
  },
  {
   "cell_type": "code",
   "execution_count": 8,
   "metadata": {
    "ExecuteTime": {
     "end_time": "2021-06-18T17:05:35.767923Z",
     "start_time": "2021-06-18T17:05:35.729936Z"
    }
   },
   "outputs": [
    {
     "data": {
      "text/html": [
       "<div>\n",
       "<style scoped>\n",
       "    .dataframe tbody tr th:only-of-type {\n",
       "        vertical-align: middle;\n",
       "    }\n",
       "\n",
       "    .dataframe tbody tr th {\n",
       "        vertical-align: top;\n",
       "    }\n",
       "\n",
       "    .dataframe thead th {\n",
       "        text-align: right;\n",
       "    }\n",
       "</style>\n",
       "<table border=\"1\" class=\"dataframe\">\n",
       "  <thead>\n",
       "    <tr style=\"text-align: right;\">\n",
       "      <th></th>\n",
       "      <th>review</th>\n",
       "      <th>sentiment</th>\n",
       "      <th>count_sent</th>\n",
       "      <th>count_word</th>\n",
       "      <th>count_unique_word</th>\n",
       "      <th>count_letters</th>\n",
       "      <th>count_punctuations</th>\n",
       "      <th>count_words_upper</th>\n",
       "      <th>count_words_title</th>\n",
       "      <th>count_stopwords</th>\n",
       "      <th>mean_word_len</th>\n",
       "      <th>word_unique_percent</th>\n",
       "      <th>punct_percent</th>\n",
       "    </tr>\n",
       "  </thead>\n",
       "  <tbody>\n",
       "    <tr>\n",
       "      <th>0</th>\n",
       "      <td>One of the other reviewers has mentioned that ...</td>\n",
       "      <td>positive</td>\n",
       "      <td>1</td>\n",
       "      <td>307</td>\n",
       "      <td>208</td>\n",
       "      <td>1761</td>\n",
       "      <td>78</td>\n",
       "      <td>8</td>\n",
       "      <td>36</td>\n",
       "      <td>133</td>\n",
       "      <td>4.739414</td>\n",
       "      <td>67.752443</td>\n",
       "      <td>25.407166</td>\n",
       "    </tr>\n",
       "    <tr>\n",
       "      <th>1</th>\n",
       "      <td>A wonderful little production. &lt;br /&gt;&lt;br /&gt;The...</td>\n",
       "      <td>positive</td>\n",
       "      <td>1</td>\n",
       "      <td>162</td>\n",
       "      <td>114</td>\n",
       "      <td>998</td>\n",
       "      <td>44</td>\n",
       "      <td>2</td>\n",
       "      <td>12</td>\n",
       "      <td>66</td>\n",
       "      <td>5.166667</td>\n",
       "      <td>70.370370</td>\n",
       "      <td>27.160494</td>\n",
       "    </tr>\n",
       "    <tr>\n",
       "      <th>2</th>\n",
       "      <td>I thought this was a wonderful way to spend ti...</td>\n",
       "      <td>positive</td>\n",
       "      <td>1</td>\n",
       "      <td>166</td>\n",
       "      <td>121</td>\n",
       "      <td>926</td>\n",
       "      <td>40</td>\n",
       "      <td>3</td>\n",
       "      <td>20</td>\n",
       "      <td>76</td>\n",
       "      <td>4.584337</td>\n",
       "      <td>72.891566</td>\n",
       "      <td>24.096386</td>\n",
       "    </tr>\n",
       "    <tr>\n",
       "      <th>3</th>\n",
       "      <td>Basically there's a family where a little boy ...</td>\n",
       "      <td>negative</td>\n",
       "      <td>1</td>\n",
       "      <td>138</td>\n",
       "      <td>96</td>\n",
       "      <td>748</td>\n",
       "      <td>42</td>\n",
       "      <td>3</td>\n",
       "      <td>13</td>\n",
       "      <td>62</td>\n",
       "      <td>4.427536</td>\n",
       "      <td>69.565217</td>\n",
       "      <td>30.434783</td>\n",
       "    </tr>\n",
       "    <tr>\n",
       "      <th>4</th>\n",
       "      <td>Petter Mattei's \"Love in the Time of Money\" is...</td>\n",
       "      <td>positive</td>\n",
       "      <td>1</td>\n",
       "      <td>230</td>\n",
       "      <td>152</td>\n",
       "      <td>1317</td>\n",
       "      <td>56</td>\n",
       "      <td>1</td>\n",
       "      <td>31</td>\n",
       "      <td>96</td>\n",
       "      <td>4.730435</td>\n",
       "      <td>66.086957</td>\n",
       "      <td>24.347826</td>\n",
       "    </tr>\n",
       "    <tr>\n",
       "      <th>...</th>\n",
       "      <td>...</td>\n",
       "      <td>...</td>\n",
       "      <td>...</td>\n",
       "      <td>...</td>\n",
       "      <td>...</td>\n",
       "      <td>...</td>\n",
       "      <td>...</td>\n",
       "      <td>...</td>\n",
       "      <td>...</td>\n",
       "      <td>...</td>\n",
       "      <td>...</td>\n",
       "      <td>...</td>\n",
       "      <td>...</td>\n",
       "    </tr>\n",
       "    <tr>\n",
       "      <th>49995</th>\n",
       "      <td>I thought this movie did a down right good job...</td>\n",
       "      <td>positive</td>\n",
       "      <td>1</td>\n",
       "      <td>194</td>\n",
       "      <td>127</td>\n",
       "      <td>1008</td>\n",
       "      <td>46</td>\n",
       "      <td>3</td>\n",
       "      <td>7</td>\n",
       "      <td>102</td>\n",
       "      <td>4.201031</td>\n",
       "      <td>65.463918</td>\n",
       "      <td>23.711340</td>\n",
       "    </tr>\n",
       "    <tr>\n",
       "      <th>49996</th>\n",
       "      <td>Bad plot, bad dialogue, bad acting, idiotic di...</td>\n",
       "      <td>negative</td>\n",
       "      <td>1</td>\n",
       "      <td>112</td>\n",
       "      <td>85</td>\n",
       "      <td>642</td>\n",
       "      <td>26</td>\n",
       "      <td>3</td>\n",
       "      <td>15</td>\n",
       "      <td>51</td>\n",
       "      <td>4.741071</td>\n",
       "      <td>75.892857</td>\n",
       "      <td>23.214286</td>\n",
       "    </tr>\n",
       "    <tr>\n",
       "      <th>49997</th>\n",
       "      <td>I am a Catholic taught in parochial elementary...</td>\n",
       "      <td>negative</td>\n",
       "      <td>1</td>\n",
       "      <td>230</td>\n",
       "      <td>148</td>\n",
       "      <td>1280</td>\n",
       "      <td>45</td>\n",
       "      <td>5</td>\n",
       "      <td>21</td>\n",
       "      <td>111</td>\n",
       "      <td>4.569565</td>\n",
       "      <td>64.347826</td>\n",
       "      <td>19.565217</td>\n",
       "    </tr>\n",
       "    <tr>\n",
       "      <th>49998</th>\n",
       "      <td>I'm going to have to disagree with the previou...</td>\n",
       "      <td>negative</td>\n",
       "      <td>1</td>\n",
       "      <td>212</td>\n",
       "      <td>154</td>\n",
       "      <td>1234</td>\n",
       "      <td>28</td>\n",
       "      <td>0</td>\n",
       "      <td>20</td>\n",
       "      <td>96</td>\n",
       "      <td>4.825472</td>\n",
       "      <td>72.641509</td>\n",
       "      <td>13.207547</td>\n",
       "    </tr>\n",
       "    <tr>\n",
       "      <th>49999</th>\n",
       "      <td>No one expects the Star Trek movies to be high...</td>\n",
       "      <td>negative</td>\n",
       "      <td>1</td>\n",
       "      <td>129</td>\n",
       "      <td>93</td>\n",
       "      <td>678</td>\n",
       "      <td>24</td>\n",
       "      <td>1</td>\n",
       "      <td>10</td>\n",
       "      <td>56</td>\n",
       "      <td>4.263566</td>\n",
       "      <td>72.093023</td>\n",
       "      <td>18.604651</td>\n",
       "    </tr>\n",
       "  </tbody>\n",
       "</table>\n",
       "<p>50000 rows × 13 columns</p>\n",
       "</div>"
      ],
      "text/plain": [
       "                                                  review sentiment  \\\n",
       "0      One of the other reviewers has mentioned that ...  positive   \n",
       "1      A wonderful little production. <br /><br />The...  positive   \n",
       "2      I thought this was a wonderful way to spend ti...  positive   \n",
       "3      Basically there's a family where a little boy ...  negative   \n",
       "4      Petter Mattei's \"Love in the Time of Money\" is...  positive   \n",
       "...                                                  ...       ...   \n",
       "49995  I thought this movie did a down right good job...  positive   \n",
       "49996  Bad plot, bad dialogue, bad acting, idiotic di...  negative   \n",
       "49997  I am a Catholic taught in parochial elementary...  negative   \n",
       "49998  I'm going to have to disagree with the previou...  negative   \n",
       "49999  No one expects the Star Trek movies to be high...  negative   \n",
       "\n",
       "       count_sent  count_word  count_unique_word  count_letters  \\\n",
       "0               1         307                208           1761   \n",
       "1               1         162                114            998   \n",
       "2               1         166                121            926   \n",
       "3               1         138                 96            748   \n",
       "4               1         230                152           1317   \n",
       "...           ...         ...                ...            ...   \n",
       "49995           1         194                127           1008   \n",
       "49996           1         112                 85            642   \n",
       "49997           1         230                148           1280   \n",
       "49998           1         212                154           1234   \n",
       "49999           1         129                 93            678   \n",
       "\n",
       "       count_punctuations  count_words_upper  count_words_title  \\\n",
       "0                      78                  8                 36   \n",
       "1                      44                  2                 12   \n",
       "2                      40                  3                 20   \n",
       "3                      42                  3                 13   \n",
       "4                      56                  1                 31   \n",
       "...                   ...                ...                ...   \n",
       "49995                  46                  3                  7   \n",
       "49996                  26                  3                 15   \n",
       "49997                  45                  5                 21   \n",
       "49998                  28                  0                 20   \n",
       "49999                  24                  1                 10   \n",
       "\n",
       "       count_stopwords  mean_word_len  word_unique_percent  punct_percent  \n",
       "0                  133       4.739414            67.752443      25.407166  \n",
       "1                   66       5.166667            70.370370      27.160494  \n",
       "2                   76       4.584337            72.891566      24.096386  \n",
       "3                   62       4.427536            69.565217      30.434783  \n",
       "4                   96       4.730435            66.086957      24.347826  \n",
       "...                ...            ...                  ...            ...  \n",
       "49995              102       4.201031            65.463918      23.711340  \n",
       "49996               51       4.741071            75.892857      23.214286  \n",
       "49997              111       4.569565            64.347826      19.565217  \n",
       "49998               96       4.825472            72.641509      13.207547  \n",
       "49999               56       4.263566            72.093023      18.604651  \n",
       "\n",
       "[50000 rows x 13 columns]"
      ]
     },
     "execution_count": 8,
     "metadata": {},
     "output_type": "execute_result"
    }
   ],
   "source": [
    "df"
   ]
  },
  {
   "cell_type": "markdown",
   "metadata": {},
   "source": [
    "# Text Preprocessing"
   ]
  },
  {
   "cell_type": "markdown",
   "metadata": {},
   "source": [
    "## Remove"
   ]
  },
  {
   "cell_type": "code",
   "execution_count": 9,
   "metadata": {
    "ExecuteTime": {
     "end_time": "2021-06-18T17:05:35.782920Z",
     "start_time": "2021-06-18T17:05:35.772922Z"
    }
   },
   "outputs": [
    {
     "data": {
      "text/plain": [
       "\"One of the other reviewers has mentioned that after watching just 1 Oz episode you'll be hooked. They are right, as this is exactly what happened with me.<br /><br />The first thing that struck me about Oz was its brutality and unflinching scenes of violence, which set in right from the word GO. Trust me, this is not a show for the faint hearted or timid. This show pulls no punches with regards to drugs, sex or violence. Its is hardcore, in the classic use of the word.<br /><br />It is called OZ\""
      ]
     },
     "execution_count": 9,
     "metadata": {},
     "output_type": "execute_result"
    }
   ],
   "source": [
    "first_review = df['review'][0][0:500]\n",
    "first_review"
   ]
  },
  {
   "cell_type": "code",
   "execution_count": 10,
   "metadata": {
    "ExecuteTime": {
     "end_time": "2021-06-18T17:05:35.798912Z",
     "start_time": "2021-06-18T17:05:35.785915Z"
    },
    "scrolled": false
   },
   "outputs": [
    {
     "data": {
      "text/plain": [
       "['One',\n",
       " 'of',\n",
       " 'the',\n",
       " 'other',\n",
       " 'reviewers',\n",
       " 'has',\n",
       " 'mentioned',\n",
       " 'that',\n",
       " 'after',\n",
       " 'watching',\n",
       " 'just',\n",
       " 'Oz',\n",
       " 'episode',\n",
       " \"you'll\",\n",
       " 'be',\n",
       " 'hooked',\n",
       " 'They',\n",
       " 'are',\n",
       " 'right',\n",
       " 'as',\n",
       " 'this',\n",
       " 'is',\n",
       " 'exactly',\n",
       " 'what',\n",
       " 'happened',\n",
       " 'with',\n",
       " 'me',\n",
       " 'br',\n",
       " 'br',\n",
       " 'The',\n",
       " 'first',\n",
       " 'thing',\n",
       " 'that',\n",
       " 'struck',\n",
       " 'me',\n",
       " 'about',\n",
       " 'Oz',\n",
       " 'was',\n",
       " 'its',\n",
       " 'brutality',\n",
       " 'and',\n",
       " 'unflinching',\n",
       " 'scenes',\n",
       " 'of',\n",
       " 'violence',\n",
       " 'which',\n",
       " 'set',\n",
       " 'in',\n",
       " 'right',\n",
       " 'from',\n",
       " 'the',\n",
       " 'word',\n",
       " 'GO',\n",
       " 'Trust',\n",
       " 'me',\n",
       " 'this',\n",
       " 'is',\n",
       " 'not',\n",
       " 'a',\n",
       " 'show',\n",
       " 'for',\n",
       " 'the',\n",
       " 'faint',\n",
       " 'hearted',\n",
       " 'or',\n",
       " 'timid',\n",
       " 'This',\n",
       " 'show',\n",
       " 'pulls',\n",
       " 'no',\n",
       " 'punches',\n",
       " 'with',\n",
       " 'regards',\n",
       " 'to',\n",
       " 'drugs',\n",
       " 'sex',\n",
       " 'or',\n",
       " 'violence',\n",
       " 'Its',\n",
       " 'is',\n",
       " 'hardcore',\n",
       " 'in',\n",
       " 'the',\n",
       " 'classic',\n",
       " 'use',\n",
       " 'of',\n",
       " 'the',\n",
       " 'word',\n",
       " 'br',\n",
       " 'br',\n",
       " 'It',\n",
       " 'is',\n",
       " 'called',\n",
       " 'OZ']"
      ]
     },
     "execution_count": 10,
     "metadata": {},
     "output_type": "execute_result"
    }
   ],
   "source": [
    "## From tjhe lessons\n",
    "from nltk import regexp_tokenize\n",
    "pattern = r\"([a-zA-Z]+(?:'[a-z]+)?)\"\n",
    "regexp_tokenize(first_review,pattern)"
   ]
  },
  {
   "cell_type": "code",
   "execution_count": 11,
   "metadata": {
    "ExecuteTime": {
     "end_time": "2021-06-18T17:05:35.813906Z",
     "start_time": "2021-06-18T17:05:35.800910Z"
    }
   },
   "outputs": [],
   "source": [
    "stop_words_list = stopwords.words('english')\n",
    "\n",
    "stop_words_list.append('br')"
   ]
  },
  {
   "cell_type": "code",
   "execution_count": 12,
   "metadata": {
    "ExecuteTime": {
     "end_time": "2021-06-18T17:05:35.844897Z",
     "start_time": "2021-06-18T17:05:35.816906Z"
    }
   },
   "outputs": [
    {
     "data": {
      "text/plain": [
       "['One', 'of', 'the', 'other', 'reviewers']"
      ]
     },
     "execution_count": 12,
     "metadata": {},
     "output_type": "execute_result"
    }
   ],
   "source": [
    "tokens = regexp_tokenize(first_review, pattern)\n",
    "\n",
    "tokens\n",
    "\n",
    "bad_tags = ['br']\n",
    "\n",
    "cleaned_tokens = []\n",
    "\n",
    "for token in tokens:\n",
    "    if token not in bad_tags:\n",
    "        cleaned_tokens.append(token)\n",
    "        \n",
    "cleaned_tokens[0:5]\n",
    "    "
   ]
  },
  {
   "cell_type": "code",
   "execution_count": 13,
   "metadata": {
    "ExecuteTime": {
     "end_time": "2021-06-18T20:25:44.209574Z",
     "start_time": "2021-06-18T20:25:44.195580Z"
    }
   },
   "outputs": [
    {
     "data": {
      "text/plain": [
       "['i',\n",
       " 'me',\n",
       " 'my',\n",
       " 'myself',\n",
       " 'we',\n",
       " 'our',\n",
       " 'ours',\n",
       " 'ourselves',\n",
       " 'you',\n",
       " \"you're\",\n",
       " \"you've\",\n",
       " \"you'll\",\n",
       " \"you'd\",\n",
       " 'your',\n",
       " 'yours',\n",
       " 'yourself',\n",
       " 'yourselves',\n",
       " 'he',\n",
       " 'him',\n",
       " 'his',\n",
       " 'himself',\n",
       " 'she',\n",
       " \"she's\",\n",
       " 'her',\n",
       " 'hers',\n",
       " 'herself',\n",
       " 'it',\n",
       " \"it's\",\n",
       " 'its',\n",
       " 'itself',\n",
       " 'they',\n",
       " 'them',\n",
       " 'their',\n",
       " 'theirs',\n",
       " 'themselves',\n",
       " 'what',\n",
       " 'which',\n",
       " 'who',\n",
       " 'whom',\n",
       " 'this',\n",
       " 'that',\n",
       " \"that'll\",\n",
       " 'these',\n",
       " 'those',\n",
       " 'am',\n",
       " 'is',\n",
       " 'are',\n",
       " 'was',\n",
       " 'were',\n",
       " 'be',\n",
       " 'been',\n",
       " 'being',\n",
       " 'have',\n",
       " 'has',\n",
       " 'had',\n",
       " 'having',\n",
       " 'do',\n",
       " 'does',\n",
       " 'did',\n",
       " 'doing',\n",
       " 'a',\n",
       " 'an',\n",
       " 'the',\n",
       " 'and',\n",
       " 'but',\n",
       " 'if',\n",
       " 'or',\n",
       " 'because',\n",
       " 'as',\n",
       " 'until',\n",
       " 'while',\n",
       " 'of',\n",
       " 'at',\n",
       " 'by',\n",
       " 'for',\n",
       " 'with',\n",
       " 'about',\n",
       " 'against',\n",
       " 'between',\n",
       " 'into',\n",
       " 'through',\n",
       " 'during',\n",
       " 'before',\n",
       " 'after',\n",
       " 'above',\n",
       " 'below',\n",
       " 'to',\n",
       " 'from',\n",
       " 'up',\n",
       " 'down',\n",
       " 'in',\n",
       " 'out',\n",
       " 'on',\n",
       " 'off',\n",
       " 'over',\n",
       " 'under',\n",
       " 'again',\n",
       " 'further',\n",
       " 'then',\n",
       " 'once',\n",
       " 'here',\n",
       " 'there',\n",
       " 'when',\n",
       " 'where',\n",
       " 'why',\n",
       " 'how',\n",
       " 'all',\n",
       " 'any',\n",
       " 'both',\n",
       " 'each',\n",
       " 'few',\n",
       " 'more',\n",
       " 'most',\n",
       " 'other',\n",
       " 'some',\n",
       " 'such',\n",
       " 'no',\n",
       " 'nor',\n",
       " 'not',\n",
       " 'only',\n",
       " 'own',\n",
       " 'same',\n",
       " 'so',\n",
       " 'than',\n",
       " 'too',\n",
       " 'very',\n",
       " 's',\n",
       " 't',\n",
       " 'can',\n",
       " 'will',\n",
       " 'just',\n",
       " 'don',\n",
       " \"don't\",\n",
       " 'should',\n",
       " \"should've\",\n",
       " 'now',\n",
       " 'd',\n",
       " 'll',\n",
       " 'm',\n",
       " 'o',\n",
       " 're',\n",
       " 've',\n",
       " 'y',\n",
       " 'ain',\n",
       " 'aren',\n",
       " \"aren't\",\n",
       " 'couldn',\n",
       " \"couldn't\",\n",
       " 'didn',\n",
       " \"didn't\",\n",
       " 'doesn',\n",
       " \"doesn't\",\n",
       " 'hadn',\n",
       " \"hadn't\",\n",
       " 'hasn',\n",
       " \"hasn't\",\n",
       " 'haven',\n",
       " \"haven't\",\n",
       " 'isn',\n",
       " \"isn't\",\n",
       " 'ma',\n",
       " 'mightn',\n",
       " \"mightn't\",\n",
       " 'mustn',\n",
       " \"mustn't\",\n",
       " 'needn',\n",
       " \"needn't\",\n",
       " 'shan',\n",
       " \"shan't\",\n",
       " 'shouldn',\n",
       " \"shouldn't\",\n",
       " 'wasn',\n",
       " \"wasn't\",\n",
       " 'weren',\n",
       " \"weren't\",\n",
       " 'won',\n",
       " \"won't\",\n",
       " 'wouldn',\n",
       " \"wouldn't\",\n",
       " \"i've\",\n",
       " \"i'm\",\n",
       " 'br']"
      ]
     },
     "execution_count": 13,
     "metadata": {},
     "output_type": "execute_result"
    }
   ],
   "source": [
    "stop_words_list = stopwords.words('english')\n",
    "\n",
    "remove_words = [\"i've\", \"i'm\", 'br']\n",
    "\n",
    "stop_words_list += remove_words\n",
    "\n",
    "stop_words_list"
   ]
  },
  {
   "cell_type": "markdown",
   "metadata": {},
   "source": [
    "# Tokenizer"
   ]
  },
  {
   "cell_type": "code",
   "execution_count": 14,
   "metadata": {
    "ExecuteTime": {
     "end_time": "2021-06-18T20:27:45.514317Z",
     "start_time": "2021-06-18T20:27:45.500307Z"
    }
   },
   "outputs": [
    {
     "data": {
      "text/plain": [
       "'going store'"
      ]
     },
     "execution_count": 14,
     "metadata": {},
     "output_type": "execute_result"
    }
   ],
   "source": [
    "# def my_tokenizer(first_review, stop_words=False, \n",
    "#                  stop_words_add=[],\n",
    "#                  remove_words=remove_words, show_full=False):\n",
    "                \n",
    "#         pattern = r\"([a-zA-Z]+(?:'[a-z]+)?)\"\n",
    "# #         pattern = r\"[a-zA-Z.0-9+#-/]*[^.\\s]\"\n",
    "\n",
    "#         tokens = regexp_tokenize(first_review.lower(), pattern)\n",
    "\n",
    "#         stop_words_list = []\n",
    "        \n",
    "#         if stop_words == True:            \n",
    "#             stop_words_list = stopwords.words('english')\n",
    "#             stop_words_list += stop_words_add\n",
    "            \n",
    "#         stop_words_list += remove_words\n",
    "#         [x.lower() for x in stop_words_list]\n",
    "#         cleaned_tokens = []\n",
    "\n",
    "#         for token in tokens:\n",
    "#             if token not in stop_words_list:\n",
    "#                 cleaned_tokens.append(token)\n",
    "        \n",
    "#         if show_full == False:\n",
    "#             return cleaned_tokens\n",
    "#         else:\n",
    "#             return \" \".join(cleaned_tokens)#, stop_words_list\n",
    "    \n",
    "# my_tokenizer(\"i'm going to the store\", stop_words=True, \n",
    "#              stop_words_add=[], show_full=True)\n",
    "\n",
    "\n",
    "def my_tokenizer(first_review, stop_words=False, \n",
    "                 stop_words_add=[],\n",
    "                 remove_words=remove_words, show_full=False):\n",
    "                \n",
    "        pattern = r\"([a-zA-Z]+(?:'[a-z]+)?)\"\n",
    "#         pattern = r\"[a-zA-Z.0-9+#-/]*[^.\\s]\"\n",
    "\n",
    "        tokens = regexp_tokenize(first_review, pattern)\n",
    "\n",
    "        stop_words_list = []\n",
    "        \n",
    "        if stop_words == True:            \n",
    "            stop_words_list = stopwords.words('english')\n",
    "            stop_words_list += stop_words_add\n",
    "            \n",
    "        stop_words_list += remove_words\n",
    "        [x for x in stop_words_list]\n",
    "        cleaned_tokens = []\n",
    "\n",
    "        for token in tokens:\n",
    "            if token not in stop_words_list:\n",
    "                cleaned_tokens.append(token)\n",
    "        \n",
    "        if show_full == False:\n",
    "            return cleaned_tokens\n",
    "        else:\n",
    "            return \" \".join(cleaned_tokens)#, stop_words_list\n",
    "    \n",
    "my_tokenizer(\"i'm going to the store\", stop_words=True, \n",
    "             stop_words_add=[], show_full=True)\n"
   ]
  },
  {
   "cell_type": "code",
   "execution_count": 15,
   "metadata": {
    "ExecuteTime": {
     "end_time": "2021-06-18T20:28:38.789223Z",
     "start_time": "2021-06-18T20:27:48.692306Z"
    }
   },
   "outputs": [
    {
     "data": {
      "text/plain": [
       "0        [One, reviewers, mentioned, watching, Oz, epis...\n",
       "1        [A, wonderful, little, production, The, filmin...\n",
       "2        [I, thought, wonderful, way, spend, time, hot,...\n",
       "3        [Basically, there's, family, little, boy, Jake...\n",
       "4        [Petter, Mattei's, Love, Time, Money, visually...\n",
       "                               ...                        \n",
       "49995    [I, thought, movie, right, good, job, It, crea...\n",
       "49996    [Bad, plot, bad, dialogue, bad, acting, idioti...\n",
       "49997    [I, Catholic, taught, parochial, elementary, s...\n",
       "49998    [I'm, going, disagree, previous, comment, side...\n",
       "49999    [No, one, expects, Star, Trek, movies, high, a...\n",
       "Name: reviews_t, Length: 50000, dtype: object"
      ]
     },
     "execution_count": 15,
     "metadata": {},
     "output_type": "execute_result"
    }
   ],
   "source": [
    "df['reviews_t'] = df['review'].apply(lambda text: my_tokenizer(text, stop_words=True))\n",
    "\n",
    "df['reviews_t']\n"
   ]
  },
  {
   "cell_type": "markdown",
   "metadata": {},
   "source": [
    "# EDA TO DO:\n",
    "\n",
    "Break out everything by positive and negative FIRST\n",
    "\n",
    "visualize pos neg bigrams trigrams etc\n",
    "\n",
    "Are pos negative review shorter or longer\n",
    "\n",
    "Are longer words more typical of positive or negative reviews"
   ]
  },
  {
   "cell_type": "markdown",
   "metadata": {},
   "source": [
    "Code to use from: \n",
    "\n",
    "https://medium.com/plotly/nlp-visualisations-for-clear-immediate-insights-into-text-data-and-outputs-9ebfab168d5b\n",
    "\n",
    "fig = px.bar(long_bigram_df_tidy, title='Comparision: ' + ngrams_list[0] + ' | ' + ngrams_list[1], x='ngram', y='value'\n",
    "             , color='variable', template='plotly_white', color_discrete_sequence=px.colors.qualitative.Bold\n",
    "             , labels={'variable': 'Company:', 'ngram': 'N-Gram'})\n",
    "fig.update_layout(legend_orientation=\"h\")\n",
    "fig.update_layout(legend=dict(x=0.1, y=1.1))\n",
    "fig.update_yaxes(title='', showticklabels=False)\n",
    "fig.show()"
   ]
  },
  {
   "cell_type": "markdown",
   "metadata": {},
   "source": [
    "## Bag of Words"
   ]
  },
  {
   "cell_type": "code",
   "execution_count": null,
   "metadata": {
    "ExecuteTime": {
     "end_time": "2021-06-18T20:28:39.164110Z",
     "start_time": "2021-06-18T20:28:38.792206Z"
    }
   },
   "outputs": [],
   "source": [
    "# Tokens\n",
    "\n",
    "tokens = []\n",
    "\n",
    "for row in df['reviews_t']:\n",
    "    tokens.extend(row)\n",
    "    \n",
    "print(f'Number of tokens: {len(tokens)}')\n"
   ]
  },
  {
   "cell_type": "code",
   "execution_count": null,
   "metadata": {
    "ExecuteTime": {
     "end_time": "2021-06-18T20:28:44.634407Z",
     "start_time": "2021-06-18T20:28:39.183104Z"
    }
   },
   "outputs": [],
   "source": [
    "# Frequency distribution\n",
    "\n",
    "review_freqdist = FreqDist(tokens)\n",
    "most_common = review_freqdist.most_common(50)"
   ]
  },
  {
   "cell_type": "code",
   "execution_count": null,
   "metadata": {
    "ExecuteTime": {
     "end_time": "2021-06-18T20:28:39.179145Z",
     "start_time": "2021-06-18T20:28:39.168111Z"
    }
   },
   "outputs": [],
   "source": [
    "# Number of unique tokens\n",
    "\n",
    "len(review_freqdist)"
   ]
  },
  {
   "cell_type": "code",
   "execution_count": null,
   "metadata": {
    "ExecuteTime": {
     "end_time": "2021-06-18T20:28:44.650364Z",
     "start_time": "2021-06-18T20:28:44.636354Z"
    }
   },
   "outputs": [],
   "source": [
    "print(most_common)"
   ]
  },
  {
   "cell_type": "code",
   "execution_count": null,
   "metadata": {
    "ExecuteTime": {
     "end_time": "2021-06-18T20:28:45.254156Z",
     "start_time": "2021-06-18T20:28:44.653350Z"
    }
   },
   "outputs": [],
   "source": [
    "total = review_freqdist.N()\n",
    "for word in review_freqdist:\n",
    "    review_freqdist[word] /= float(total)\n",
    "\n",
    "review_freqdist"
   ]
  },
  {
   "cell_type": "code",
   "execution_count": null,
   "metadata": {
    "ExecuteTime": {
     "end_time": "2021-06-18T20:28:45.316139Z",
     "start_time": "2021-06-18T20:28:45.257155Z"
    }
   },
   "outputs": [],
   "source": [
    "total_word_count = sum(review_freqdist.values())\n",
    "review_top_10 = review_freqdist.most_common(10)\n",
    "print('Word\\t\\t\\tNormalized Frequency')\n",
    "for word in review_top_10:\n",
    "    normalized_frequency = word[1] / total_word_count\n",
    "    print('{} \\t\\t\\t {:.4}'.format(word[0], normalized_frequency))"
   ]
  },
  {
   "cell_type": "markdown",
   "metadata": {},
   "source": [
    "## Word Clouds"
   ]
  },
  {
   "cell_type": "code",
   "execution_count": null,
   "metadata": {
    "ExecuteTime": {
     "end_time": "2021-06-18T20:41:42.923706Z",
     "start_time": "2021-06-18T20:41:39.356720Z"
    }
   },
   "outputs": [],
   "source": [
    "# !pip install wordcloud\n",
    "\n",
    "from wordcloud import WordCloud"
   ]
  },
  {
   "cell_type": "markdown",
   "metadata": {},
   "source": [
    "### To Do:\n",
    "\n",
    "Break out by positive and negative"
   ]
  },
  {
   "cell_type": "markdown",
   "metadata": {},
   "source": [
    "### Positive"
   ]
  },
  {
   "cell_type": "code",
   "execution_count": null,
   "metadata": {
    "ExecuteTime": {
     "end_time": "2021-06-18T20:56:25.068036Z",
     "start_time": "2021-06-18T20:56:24.875101Z"
    }
   },
   "outputs": [],
   "source": [
    "# Positive tokens\n",
    "\n",
    "df_positive = df['reviews_t'].loc[df['sentiment'] == 'positive']\n",
    "\n",
    "tokens_positive = []\n",
    "\n",
    "for row in df_positive:\n",
    "    tokens_positive.extend(row)\n",
    "    \n",
    "print(f'Number of tokens: {len(tokens_positive)}')"
   ]
  },
  {
   "cell_type": "code",
   "execution_count": null,
   "metadata": {
    "ExecuteTime": {
     "end_time": "2021-06-18T20:56:10.301048Z",
     "start_time": "2021-06-18T20:56:10.115108Z"
    }
   },
   "outputs": [],
   "source": []
  },
  {
   "cell_type": "code",
   "execution_count": null,
   "metadata": {
    "ExecuteTime": {
     "end_time": "2021-06-18T21:13:35.868199Z",
     "start_time": "2021-06-18T21:13:00.811400Z"
    }
   },
   "outputs": [],
   "source": [
    "#Positive reviews\n",
    "from wordcloud import WordCloud, STOPWORDS\n",
    "plt.figure(figsize = (20,20))\n",
    "wc = WordCloud(max_words = 200, \n",
    "               width = 800, height = 600, \n",
    "               colormap='Greens',\n",
    "               stopwords = STOPWORDS).generate(\" \".join(tokens_positive))\n",
    "\n",
    "plt.imshow(wc)\n"
   ]
  },
  {
   "cell_type": "code",
   "execution_count": null,
   "metadata": {
    "ExecuteTime": {
     "end_time": "2021-06-18T21:14:01.777355Z",
     "start_time": "2021-06-18T21:14:01.771374Z"
    }
   },
   "outputs": [],
   "source": [
    "plt.show(wc)"
   ]
  },
  {
   "cell_type": "markdown",
   "metadata": {},
   "source": [
    "### Positive"
   ]
  },
  {
   "cell_type": "code",
   "execution_count": null,
   "metadata": {
    "ExecuteTime": {
     "end_time": "2021-06-18T21:13:36.055125Z",
     "start_time": "2021-06-18T21:13:35.870191Z"
    }
   },
   "outputs": [],
   "source": [
    "# Negative tokens\n",
    "\n",
    "df_negative = df['reviews_t'].loc[df['sentiment'] == 'negative']\n",
    "\n",
    "tokens_negative = []\n",
    "\n",
    "for row in df_negative:\n",
    "    tokens_negative.extend(row)\n",
    "    \n",
    "print(f'Number of tokens: {len(tokens_negative)}')"
   ]
  },
  {
   "cell_type": "code",
   "execution_count": null,
   "metadata": {
    "ExecuteTime": {
     "end_time": "2021-06-18T21:16:29.428083Z",
     "start_time": "2021-06-18T21:15:56.810277Z"
    }
   },
   "outputs": [],
   "source": [
    "#Positive reviews\n",
    "from wordcloud import WordCloud, STOPWORDS\n",
    "plt.figure(figsize = (12,12))\n",
    "wc = WordCloud(max_words = 200, \n",
    "               width = 800, height = 600, \n",
    "               colormap='Reds',\n",
    "               stopwords = STOPWORDS).generate(\" \".join(tokens_negative))\n",
    "\n",
    "plt.imshow(wc)\n"
   ]
  },
  {
   "cell_type": "code",
   "execution_count": null,
   "metadata": {},
   "outputs": [],
   "source": []
  },
  {
   "cell_type": "code",
   "execution_count": null,
   "metadata": {},
   "outputs": [],
   "source": []
  },
  {
   "cell_type": "code",
   "execution_count": null,
   "metadata": {},
   "outputs": [],
   "source": [
    "tokens_negative"
   ]
  },
  {
   "cell_type": "markdown",
   "metadata": {
    "ExecuteTime": {
     "end_time": "2021-06-18T19:47:47.137748Z",
     "start_time": "2021-06-18T19:47:47.094726Z"
    }
   },
   "source": [
    "## Ngrams"
   ]
  },
  {
   "cell_type": "code",
   "execution_count": null,
   "metadata": {
    "ExecuteTime": {
     "end_time": "2021-06-18T20:29:03.510835Z",
     "start_time": "2021-06-18T20:28:52.070451Z"
    }
   },
   "outputs": [],
   "source": [
    "n_gram = (pd.Series(nltk.ngrams(tokens, 2)).value_counts())[:7]"
   ]
  },
  {
   "cell_type": "code",
   "execution_count": null,
   "metadata": {
    "ExecuteTime": {
     "end_time": "2021-06-18T20:33:57.568888Z",
     "start_time": "2021-06-18T20:33:51.324787Z"
    }
   },
   "outputs": [],
   "source": [
    "def plot_ngram(tokens, i):\n",
    "    n_gram = (pd.Series(nltk.ngrams(tokens, i)).value_counts())[:10]\n",
    "    n_gram_df=pd.DataFrame(n_gram)\n",
    "    n_gram_df = n_gram_df.reset_index()\n",
    "    n_gram_df = n_gram_df.rename(columns={\"index\": \"word\", 0: \"count\"})\n",
    "    print(n_gram_df.head(10))\n",
    "    plt.figure(figsize = (10,5))\n",
    "    return sns.barplot(x='count',y='word', data=n_gram_df)\n",
    "\n",
    "plot_ngram(tokens, 1)"
   ]
  },
  {
   "cell_type": "code",
   "execution_count": null,
   "metadata": {
    "ExecuteTime": {
     "end_time": "2021-06-18T20:34:20.180889Z",
     "start_time": "2021-06-18T20:34:04.940043Z"
    }
   },
   "outputs": [],
   "source": [
    "plot_ngram(tokens, 2)"
   ]
  },
  {
   "cell_type": "code",
   "execution_count": null,
   "metadata": {
    "ExecuteTime": {
     "end_time": "2021-06-18T20:34:39.899566Z",
     "start_time": "2021-06-18T20:34:20.183885Z"
    }
   },
   "outputs": [],
   "source": [
    "plot_ngram(tokens, 3)"
   ]
  },
  {
   "cell_type": "code",
   "execution_count": null,
   "metadata": {
    "ExecuteTime": {
     "end_time": "2021-06-18T20:35:14.843558Z",
     "start_time": "2021-06-18T20:34:56.819001Z"
    }
   },
   "outputs": [],
   "source": [
    "plot_ngram(tokens_positive, 4)"
   ]
  },
  {
   "cell_type": "code",
   "execution_count": null,
   "metadata": {},
   "outputs": [],
   "source": [
    "tokens\n"
   ]
  },
  {
   "cell_type": "code",
   "execution_count": null,
   "metadata": {},
   "outputs": [],
   "source": []
  },
  {
   "cell_type": "code",
   "execution_count": null,
   "metadata": {},
   "outputs": [],
   "source": []
  },
  {
   "cell_type": "code",
   "execution_count": null,
   "metadata": {},
   "outputs": [],
   "source": []
  },
  {
   "cell_type": "code",
   "execution_count": null,
   "metadata": {},
   "outputs": [],
   "source": []
  },
  {
   "cell_type": "markdown",
   "metadata": {},
   "source": [
    "# Modeling"
   ]
  },
  {
   "cell_type": "code",
   "execution_count": null,
   "metadata": {
    "ExecuteTime": {
     "end_time": "2021-06-18T16:36:33.303540Z",
     "start_time": "2021-06-18T16:36:33.290546Z"
    }
   },
   "outputs": [],
   "source": [
    "# df['reviews_p'] = df['reviews_t']\n",
    "\n",
    "# X_train, X_test, y_train, y_test = train_test_split(df['reviews_p'], df['sentiment'], test_size=0.3,random_state=0)"
   ]
  },
  {
   "cell_type": "markdown",
   "metadata": {},
   "source": [
    "## TF - IDF"
   ]
  },
  {
   "cell_type": "code",
   "execution_count": 16,
   "metadata": {
    "ExecuteTime": {
     "end_time": "2021-06-18T16:36:48.241810Z",
     "start_time": "2021-06-18T16:36:33.313538Z"
    }
   },
   "outputs": [],
   "source": [
    "## set up text preprocessing pipeline\n",
    "\n",
    "tfidf = TfidfVectorizer(strip_accents='unicode', \n",
    "                        tokenizer=my_tokenizer, \n",
    "                        stop_words=stop_words_list\n",
    "                            )\n",
    "\n",
    "X = df['review']\n",
    "y = df['sentiment']\n",
    "\n",
    "# Do train test split here\n",
    "X_train, X_test, y_train, y_test = train_test_split(X, y, test_size=0.3,random_state=0)\n",
    "\n",
    "# Fit both x train and test\n",
    "X_train_tfidf = tfidf.fit_transform(X_train)\n",
    "X_test_tfidf = tfidf.transform(X_test)\n",
    "\n",
    "\n"
   ]
  },
  {
   "cell_type": "code",
   "execution_count": 17,
   "metadata": {
    "ExecuteTime": {
     "end_time": "2021-06-18T16:36:52.986176Z",
     "start_time": "2021-06-18T16:36:48.243845Z"
    }
   },
   "outputs": [
    {
     "data": {
      "text/plain": [
       "LogisticRegression(C=10)"
      ]
     },
     "execution_count": 17,
     "metadata": {},
     "output_type": "execute_result"
    }
   ],
   "source": [
    "# Logistic Regression with TF-IDF Vectoriser\n",
    "tfidf_log = LogisticRegression(penalty='l2',C=10)\n",
    "tfidf_log.fit(X_train_tfidf, y_train)"
   ]
  },
  {
   "cell_type": "code",
   "execution_count": 18,
   "metadata": {
    "ExecuteTime": {
     "end_time": "2021-06-18T16:36:53.002157Z",
     "start_time": "2021-06-18T16:36:52.989161Z"
    }
   },
   "outputs": [],
   "source": [
    "def evaluate_model(model, X_train=X_train, X_test=X_test, y_train=y_train, \n",
    "                   y_test=y_test, cmap='Greens', normalize='true',\n",
    "                   classes=None,figsize=(10,4)):\n",
    "    \n",
    "    # Print model accuracy\n",
    "    print(f'Training Accuracy: {model.score(X_train,y_train):.2%}')\n",
    "    print(f'Test Accuracy: {model.score(X_test,y_test):.2%}')\n",
    "    print('')\n",
    "    \n",
    "    # Print classification report\n",
    "    y_test_predict = model.predict(X_test)\n",
    "    print(metrics.classification_report(y_test, y_test_predict,\n",
    "                                        target_names=classes))\n",
    "    \n",
    "    # Plot confusion matrix\n",
    "    fig,ax = plt.subplots(ncols=2,figsize=figsize)\n",
    "    metrics.plot_confusion_matrix(model, X_test,y_test,cmap=cmap, \n",
    "                                  normalize=normalize,display_labels=classes,\n",
    "                                  ax=ax[0])\n",
    "    \n",
    "    #Plot ROC curves\n",
    "    with sns.axes_style(\"darkgrid\"):\n",
    "        curve = metrics.plot_roc_curve(model,X_train,y_train,ax=ax[1])\n",
    "        curve2 = metrics.plot_roc_curve(model,X_test,y_test,ax=ax[1])\n",
    "        curve.ax_.grid()\n",
    "        curve.ax_.plot([0,1],[0,1],ls=':')\n",
    "        fig.tight_layout()\n",
    "        plt.show()"
   ]
  },
  {
   "cell_type": "code",
   "execution_count": 19,
   "metadata": {
    "ExecuteTime": {
     "end_time": "2021-06-18T16:36:54.821126Z",
     "start_time": "2021-06-18T16:36:53.005157Z"
    },
    "scrolled": false
   },
   "outputs": [
    {
     "name": "stdout",
     "output_type": "stream",
     "text": [
      "Training Accuracy: 98.79%\n",
      "Test Accuracy: 89.47%\n",
      "\n",
      "              precision    recall  f1-score   support\n",
      "\n",
      "    negative       0.90      0.88      0.89      7540\n",
      "    positive       0.89      0.90      0.90      7460\n",
      "\n",
      "    accuracy                           0.89     15000\n",
      "   macro avg       0.89      0.89      0.89     15000\n",
      "weighted avg       0.89      0.89      0.89     15000\n",
      "\n"
     ]
    },
    {
     "data": {
      "image/png": "[encoded data removed]",
      "text/plain": [
       "<Figure size 720x288 with 3 Axes>"
      ]
     },
     "metadata": {
      "needs_background": "light"
     },
     "output_type": "display_data"
    }
   ],
   "source": [
    "evaluate_model(tfidf_log, X_train=X_train_tfidf, X_test=X_test_tfidf)"
   ]
  },
  {
   "cell_type": "code",
   "execution_count": 73,
   "metadata": {},
   "outputs": [
    {
     "data": {
      "text/html": [
       "<div>\n",
       "<style scoped>\n",
       "    .dataframe tbody tr th:only-of-type {\n",
       "        vertical-align: middle;\n",
       "    }\n",
       "\n",
       "    .dataframe tbody tr th {\n",
       "        vertical-align: top;\n",
       "    }\n",
       "\n",
       "    .dataframe thead th {\n",
       "        text-align: right;\n",
       "    }\n",
       "</style>\n",
       "<table border=\"1\" class=\"dataframe\">\n",
       "  <thead>\n",
       "    <tr style=\"text-align: right;\">\n",
       "      <th></th>\n",
       "      <th>features</th>\n",
       "      <th>coefficients</th>\n",
       "    </tr>\n",
       "  </thead>\n",
       "  <tbody>\n",
       "    <tr>\n",
       "      <th>34791</th>\n",
       "      <td>great</td>\n",
       "      <td>11.178709</td>\n",
       "    </tr>\n",
       "    <tr>\n",
       "      <th>27625</th>\n",
       "      <td>excellent</td>\n",
       "      <td>10.834942</td>\n",
       "    </tr>\n",
       "    <tr>\n",
       "      <th>61605</th>\n",
       "      <td>perfect</td>\n",
       "      <td>9.804772</td>\n",
       "    </tr>\n",
       "    <tr>\n",
       "      <th>92027</th>\n",
       "      <td>wonderful</td>\n",
       "      <td>8.779949</td>\n",
       "    </tr>\n",
       "    <tr>\n",
       "      <th>7584</th>\n",
       "      <td>best</td>\n",
       "      <td>8.468396</td>\n",
       "    </tr>\n",
       "    <tr>\n",
       "      <th>...</th>\n",
       "      <td>...</td>\n",
       "      <td>...</td>\n",
       "    </tr>\n",
       "    <tr>\n",
       "      <th>9471</th>\n",
       "      <td>boring</td>\n",
       "      <td>-10.769391</td>\n",
       "    </tr>\n",
       "    <tr>\n",
       "      <th>5528</th>\n",
       "      <td>bad</td>\n",
       "      <td>-11.986093</td>\n",
       "    </tr>\n",
       "    <tr>\n",
       "      <th>5210</th>\n",
       "      <td>awful</td>\n",
       "      <td>-13.750660</td>\n",
       "    </tr>\n",
       "    <tr>\n",
       "      <th>90354</th>\n",
       "      <td>waste</td>\n",
       "      <td>-15.427182</td>\n",
       "    </tr>\n",
       "    <tr>\n",
       "      <th>92288</th>\n",
       "      <td>worst</td>\n",
       "      <td>-18.478230</td>\n",
       "    </tr>\n",
       "  </tbody>\n",
       "</table>\n",
       "<p>93759 rows × 2 columns</p>\n",
       "</div>"
      ],
      "text/plain": [
       "        features  coefficients\n",
       "34791      great     11.178709\n",
       "27625  excellent     10.834942\n",
       "61605    perfect      9.804772\n",
       "92027  wonderful      8.779949\n",
       "7584        best      8.468396\n",
       "...          ...           ...\n",
       "9471      boring    -10.769391\n",
       "5528         bad    -11.986093\n",
       "5210       awful    -13.750660\n",
       "90354      waste    -15.427182\n",
       "92288      worst    -18.478230\n",
       "\n",
       "[93759 rows x 2 columns]"
      ]
     },
     "execution_count": 73,
     "metadata": {},
     "output_type": "execute_result"
    }
   ],
   "source": [
    "feature_names = tfidf.get_feature_names()\n",
    "feature_names\n",
    "\n",
    "df_coef = pd.DataFrame()\n",
    "\n",
    "df_coef['features'] = feature_names\n",
    "df_coef['coefficients'] = tfidf_log.coef_.flatten()\n",
    "\n",
    "df_coef.sort_values(by='coefficients', ascending=False)"
   ]
  },
  {
   "cell_type": "code",
   "execution_count": null,
   "metadata": {},
   "outputs": [],
   "source": []
  },
  {
   "cell_type": "code",
   "execution_count": null,
   "metadata": {},
   "outputs": [],
   "source": []
  },
  {
   "cell_type": "code",
   "execution_count": null,
   "metadata": {},
   "outputs": [],
   "source": []
  },
  {
   "cell_type": "markdown",
   "metadata": {},
   "source": [
    "## Count Vectorizer"
   ]
  },
  {
   "cell_type": "code",
   "execution_count": null,
   "metadata": {
    "ExecuteTime": {
     "end_time": "2021-06-18T16:37:13.815018Z",
     "start_time": "2021-06-18T16:36:54.825111Z"
    }
   },
   "outputs": [],
   "source": [
    "## set up text preprocessing pipeline\n",
    "\n",
    "from sklearn.feature_extraction.text import CountVectorizer\n",
    "\n",
    "cv = CountVectorizer(strip_accents='unicode',\n",
    "                              tokenizer=my_tokenizer,\n",
    "\n",
    "                             stop_words=stop_words_list\n",
    "                            )\n",
    "\n",
    "# X = df['review']\n",
    "# y = df['sentiment']\n",
    "\n",
    "# X\n",
    "\n",
    "# # Do train test split here\n",
    "# X_train, X_test, y_train, y_test = train_test_split(X, y, test_size=0.3,random_state=0)\n",
    "\n",
    "# Fit both x train and test\n",
    "X_train_cv = cv.fit_transform(X_train)\n",
    "X_test_cv = cv.transform(X_test)\n",
    "\n",
    "\n"
   ]
  },
  {
   "cell_type": "code",
   "execution_count": null,
   "metadata": {
    "ExecuteTime": {
     "end_time": "2021-06-18T16:37:13.830015Z",
     "start_time": "2021-06-18T16:37:13.819018Z"
    }
   },
   "outputs": [],
   "source": [
    "# X_train_cv"
   ]
  },
  {
   "cell_type": "code",
   "execution_count": null,
   "metadata": {
    "ExecuteTime": {
     "end_time": "2021-06-18T16:37:20.447890Z",
     "start_time": "2021-06-18T16:37:13.837011Z"
    }
   },
   "outputs": [],
   "source": [
    "# Logistic Regression with Count Vectoriser\n",
    "cv_log = LogisticRegression(penalty='l2',C=10)\n",
    "cv_log.fit(X_train_cv, y_train)"
   ]
  },
  {
   "cell_type": "code",
   "execution_count": null,
   "metadata": {
    "ExecuteTime": {
     "end_time": "2021-06-18T16:37:22.510193Z",
     "start_time": "2021-06-18T16:37:20.450891Z"
    }
   },
   "outputs": [],
   "source": [
    "evaluate_model(cv_log, X_train=X_train_cv, X_test=X_test_cv)"
   ]
  },
  {
   "cell_type": "markdown",
   "metadata": {},
   "source": [
    "## XGBoost"
   ]
  },
  {
   "cell_type": "code",
   "execution_count": null,
   "metadata": {},
   "outputs": [],
   "source": [
    "model_xgb_tf = XGBClassifier() #Default XGBoost Model with TF_IDF\n",
    "model_xgb_tf.fit(X_train_tfidf, y_train)\n",
    "\n",
    "evaluate_model(model_xgb_tf, X_train=X_train_tfidf, X_test=X_test_tfidf)"
   ]
  },
  {
   "cell_type": "code",
   "execution_count": null,
   "metadata": {},
   "outputs": [],
   "source": []
  },
  {
   "cell_type": "code",
   "execution_count": null,
   "metadata": {},
   "outputs": [],
   "source": [
    "model_xgb_cv = XGBClassifier() #Default XGBoost Model with TF_IDF\n",
    "model_xgb_cv.fit(X_train_tfidf, y_train)\n",
    "\n",
    "evaluate_model(model_xgb_cv, X_train=X_train_cv, X_test=X_test_cv)"
   ]
  },
  {
   "cell_type": "code",
   "execution_count": null,
   "metadata": {},
   "outputs": [],
   "source": [
    "# Create compare model function\n",
    "\n",
    "def model_compare(base_model, grid_search_model):\n",
    "    \n",
    "    # Calculate accuracies\n",
    "    base_score = base_model.score(X_test, y_test)\n",
    "    grid_score = grid_search_model.score(X_test, y_test)\n",
    "    \n",
    "    #Print accuracies\n",
    "    print(\"--- Base Model ---\")\n",
    "    model_accuracy(base_model)\n",
    "    print('')\n",
    "    print(\"--- Grid Search Model ---\")\n",
    "    model_accuracy(grid_search_model)\n",
    "    print('')\n",
    "    \n",
    "    # If/else function to display best model and score improvement\n",
    "    if base_score < grid_score:    \n",
    "        print(f'Our grid search model outperformed our base model by {(grid_score - base_score):.2%}')\n",
    "    else:\n",
    "        print(f'Our base model outperformed our grid search model by {(base_score - grid_score):.2%}')\n",
    "    \n",
    "# model_compare(model_log, log_grid_search.best_estimator_)"
   ]
  },
  {
   "cell_type": "code",
   "execution_count": null,
   "metadata": {},
   "outputs": [],
   "source": [
    "# If run = True, code will perform full grid search\n",
    "# If run = False, code will use previously calculated best parameters\n",
    "run = False\n",
    "\n",
    "# Instantiate new model for hyperparameter tuning\n",
    "model_xgb_hp = XGBClassifier(random_state=8)\n",
    "\n",
    "# Define grid search parameters\n",
    "if run == True:\n",
    "    param_grid = {\n",
    "        'learning_rate': [0.0001, 0.001, 0.01, 0.1],\n",
    "        'max_depth': [3, 5, 7, 9],\n",
    "        'min_child_weight': [1, 2],\n",
    "        'subsample': [0.5, 0.7, 1],\n",
    "        'n_estimators': [10, 100, 1000]}\n",
    "else:\n",
    "    param_grid = {\n",
    "        'learning_rate': [0.01],\n",
    "        'max_depth': [5],\n",
    "        'min_child_weight': [2],\n",
    "        'subsample': [0.5],\n",
    "        'n_estimators': [100]}\n",
    "\n",
    "# Create grid search and train\n",
    "xgb_grid_search = GridSearchCV(model_xgb_hp, param_grid, scoring='accuracy', \n",
    "                               cv=5, n_jobs=-1, verbose=100)\n",
    "xgb_grid_search.fit(X_train_tfidf, y_train)\n",
    "\n",
    "# # Print metrics\n",
    "# model_compare(model_xgb_tf, xgb_grid_search.best_estimator_)\n",
    "# print(\"\")\n",
    "# print(f\"Cross Validated Score: {xgb_grid_search.best_score_ :.2%}\")\n",
    "# print(\"\")\n",
    "# print(f\"Optimal Parameters: {xgb_grid_search.best_params_}\")"
   ]
  },
  {
   "cell_type": "code",
   "execution_count": null,
   "metadata": {},
   "outputs": [],
   "source": [
    "print(\"\")\n",
    "print(f\"Cross Validated Score: {xgb_grid_search.best_score_ :.2%}\")\n",
    "print(\"\")\n",
    "print(f\"Optimal Parameters: {xgb_grid_search.best_params_}\")"
   ]
  },
  {
   "cell_type": "code",
   "execution_count": null,
   "metadata": {},
   "outputs": [],
   "source": [
    "model_compare(model_xgb_tf, xgb_grid_search.best_estimator_)\n",
    "print(\"\")\n",
    "print(f\"Cross Validated Score: {xgb_grid_search.best_score_ :.2%}\")\n",
    "print(\"\")\n",
    "print(f\"Optimal Parameters: {xgb_grid_search.best_params_}\")"
   ]
  },
  {
   "cell_type": "code",
   "execution_count": null,
   "metadata": {},
   "outputs": [],
   "source": [
    "X_train_tfidf"
   ]
  },
  {
   "cell_type": "code",
   "execution_count": null,
   "metadata": {},
   "outputs": [],
   "source": []
  },
  {
   "cell_type": "markdown",
   "metadata": {},
   "source": [
    "## Neural Networks"
   ]
  },
  {
   "cell_type": "code",
   "execution_count": null,
   "metadata": {},
   "outputs": [],
   "source": [
    "from keras.preprocessing.text import Tokenizer\n",
    "from keras.preprocessing.sequence import pad_sequences\n",
    "from keras.callbacks import ModelCheckpoint\n",
    "from keras.layers import LSTM,Dropout\n",
    "from keras.layers.embeddings import Embedding\n",
    "from keras.preprocessing import sequence\n",
    "from keras.layers import LSTM, Conv1D, MaxPooling1D, Dropout\n",
    "from keras.callbacks import EarlyStopping\n",
    "from keras.models import Sequential\n",
    "from keras.layers import Dense, Dropout\n",
    "from sklearn.metrics import classification_report,confusion_matrix,accuracy_score\n",
    "from keras.wrappers.scikit_learn import KerasClassifier\n",
    "import string\n",
    "from keras.preprocessing import text, sequence\n",
    "from keras import layers, models, optimizers"
   ]
  },
  {
   "cell_type": "code",
   "execution_count": null,
   "metadata": {},
   "outputs": [],
   "source": [
    "def plot_history(history):\n",
    "    acc = history.history['accuracy']\n",
    "    val_acc = history.history['val_accuracy']\n",
    "    loss = history.history['loss']\n",
    "    val_loss = history.history['val_loss']\n",
    "    x = range(1, len(acc) + 1)\n",
    "\n",
    "    plt.figure(figsize=(12, 5))\n",
    "    plt.subplot(1, 2, 1)\n",
    "    plt.plot(x, acc, 'b', label='Training acc')\n",
    "    plt.plot(x, val_acc, 'r', label='Validation acc')\n",
    "    plt.title('Training and validation accuracy')\n",
    "    plt.legend()\n",
    "    plt.subplot(1, 2, 2)\n",
    "    plt.plot(x, loss, 'b', label='Training loss')\n",
    "    plt.plot(x, val_loss, 'r', label='Validation loss')\n",
    "    plt.title('Training and validation loss')\n",
    "    plt.legend()"
   ]
  },
  {
   "cell_type": "code",
   "execution_count": null,
   "metadata": {},
   "outputs": [],
   "source": [
    "df['sentiment'] = df['sentiment'].replace('positive',1)\n",
    "df['sentiment'] = df['sentiment'].replace('negative',0)"
   ]
  },
  {
   "cell_type": "code",
   "execution_count": null,
   "metadata": {},
   "outputs": [],
   "source": [
    "X_train, X_test, y_train, y_test = train_test_split(df['reviews_t'], df['sentiment'],test_size=0.2, random_state=0)\n",
    "\n",
    "X_train, X_valid, y_train, y_valid = train_test_split(X_train, y_train,test_size=0.1, random_state=0)"
   ]
  },
  {
   "cell_type": "code",
   "execution_count": null,
   "metadata": {},
   "outputs": [],
   "source": [
    "[x.shape for x in [X_train,X_valid,X_test]]"
   ]
  },
  {
   "cell_type": "code",
   "execution_count": null,
   "metadata": {},
   "outputs": [],
   "source": [
    "tokenizer = Tokenizer(num_words=5000)\n",
    "tokenizer.fit_on_texts(df['reviews_t'])\n",
    "\n",
    "X_train1 = tokenizer.texts_to_sequences(X_train)\n",
    "X_valid1 = tokenizer.texts_to_sequences(X_valid)\n",
    "X_test1 = tokenizer.texts_to_sequences(X_test)\n",
    "\n",
    "vocab_size = len(tokenizer.word_index) + 1  # Adding 1 because of reserved 0 index\n",
    "\n",
    "print(X_train[2])\n",
    "print(X_train1[2])"
   ]
  },
  {
   "cell_type": "code",
   "execution_count": null,
   "metadata": {},
   "outputs": [],
   "source": [
    "seq_lens = [len(s) for s in X_train1]\n",
    "print(\"average length: %0.1f\" % np.mean(seq_lens))\n",
    "print(\"max length: %d\" % max(seq_lens))"
   ]
  },
  {
   "cell_type": "code",
   "execution_count": null,
   "metadata": {},
   "outputs": [],
   "source": [
    "maxlen = 150\n",
    "\n",
    "X_train1 = pad_sequences(X_train1, padding='post', maxlen=maxlen)\n",
    "X_valid1 = pad_sequences(X_valid1, padding='post', maxlen=maxlen)\n",
    "X_test1 = pad_sequences(X_test1, padding='post', maxlen=maxlen)\n",
    "\n",
    "print(X_train1[2, :])"
   ]
  },
  {
   "cell_type": "code",
   "execution_count": null,
   "metadata": {},
   "outputs": [],
   "source": [
    "vocab_size"
   ]
  },
  {
   "cell_type": "code",
   "execution_count": null,
   "metadata": {},
   "outputs": [],
   "source": [
    "embedding_dim = 50\n",
    "callback = EarlyStopping(monitor='val_loss', patience=2)\n",
    "\n",
    "model = Sequential()\n",
    "model.add(layers.Embedding(input_dim=vocab_size, output_dim=embedding_dim, input_length=maxlen))\n",
    "model.add(layers.Flatten())\n",
    "model.add(layers.Dense(10, activation='relu'))\n",
    "model.add(layers.Dense(1, activation='sigmoid'))\n",
    "\n",
    "model.compile(optimizer='adam',loss='binary_crossentropy',metrics=['accuracy'])\n",
    "\n",
    "model.summary()"
   ]
  },
  {
   "cell_type": "code",
   "execution_count": null,
   "metadata": {},
   "outputs": [],
   "source": [
    "y_train"
   ]
  },
  {
   "cell_type": "code",
   "execution_count": null,
   "metadata": {
    "scrolled": true
   },
   "outputs": [],
   "source": [
    "history = model.fit(X_train1, y_train,epochs=10,verbose=True,validation_data=(X_valid1, y_valid),batch_size=1000,callbacks=[callback])"
   ]
  },
  {
   "cell_type": "code",
   "execution_count": null,
   "metadata": {},
   "outputs": [],
   "source": [
    "accuracy_score(y_test, model.predict_classes(X_test1))"
   ]
  },
  {
   "cell_type": "code",
   "execution_count": null,
   "metadata": {},
   "outputs": [],
   "source": [
    "plot_history(history)"
   ]
  },
  {
   "cell_type": "markdown",
   "metadata": {},
   "source": [
    "## CNN Model"
   ]
  },
  {
   "cell_type": "code",
   "execution_count": null,
   "metadata": {},
   "outputs": [],
   "source": [
    "embedding_vecor_length = 32\n",
    "callback = EarlyStopping(monitor='val_loss', patience=2)\n",
    "\n",
    "model = Sequential()\n",
    "model.add(Embedding(input_dim=vocab_size, output_dim=embedding_dim, input_length=maxlen))\n",
    "model.add(Conv1D(filters=32, kernel_size=3, padding='same', activation='relu'))\n",
    "model.add(MaxPooling1D(pool_size=2))\n",
    "model.add(LSTM(100))\n",
    "model.add(Dense(1, activation='sigmoid'))\n",
    "\n",
    "model.compile(loss='binary_crossentropy', optimizer='adam', metrics=['accuracy'])\n",
    "\n",
    "print(model.summary())"
   ]
  },
  {
   "cell_type": "code",
   "execution_count": null,
   "metadata": {},
   "outputs": [],
   "source": [
    "model.fit(X_train1, y_train, epochs=10, batch_size=256,verbose = 1,validation_data=(X_valid1,y_valid),callbacks=[callback])"
   ]
  },
  {
   "cell_type": "code",
   "execution_count": null,
   "metadata": {},
   "outputs": [],
   "source": [
    "accuracy_score(y_test, model.predict_classes(X_test1))"
   ]
  },
  {
   "cell_type": "code",
   "execution_count": null,
   "metadata": {},
   "outputs": [],
   "source": [
    "plot_history(history)"
   ]
  },
  {
   "cell_type": "code",
   "execution_count": null,
   "metadata": {},
   "outputs": [],
   "source": []
  },
  {
   "cell_type": "code",
   "execution_count": null,
   "metadata": {},
   "outputs": [],
   "source": []
  },
  {
   "cell_type": "code",
   "execution_count": null,
   "metadata": {},
   "outputs": [],
   "source": []
  },
  {
   "cell_type": "code",
   "execution_count": null,
   "metadata": {},
   "outputs": [],
   "source": []
  },
  {
   "cell_type": "code",
   "execution_count": null,
   "metadata": {},
   "outputs": [],
   "source": []
  },
  {
   "cell_type": "code",
   "execution_count": null,
   "metadata": {},
   "outputs": [],
   "source": []
  },
  {
   "cell_type": "code",
   "execution_count": null,
   "metadata": {},
   "outputs": [],
   "source": []
  },
  {
   "cell_type": "code",
   "execution_count": null,
   "metadata": {},
   "outputs": [],
   "source": []
  },
  {
   "cell_type": "code",
   "execution_count": null,
   "metadata": {},
   "outputs": [],
   "source": []
  },
  {
   "cell_type": "markdown",
   "metadata": {},
   "source": [
    "# Word analysis\n",
    "\n",
    "## Frequency Distribution\n",
    "\n",
    "## Normalized word frequency\n",
    "\n",
    "## Bigrams\n",
    "\n",
    "## Mutual information scores\n",
    "\n",
    "\n",
    "\n",
    "### TF-IDF vectorization\n",
    "#### Visualize Vector\n"
   ]
  },
  {
   "cell_type": "markdown",
   "metadata": {},
   "source": [
    "### bag of words"
   ]
  },
  {
   "cell_type": "code",
   "execution_count": null,
   "metadata": {},
   "outputs": [],
   "source": []
  },
  {
   "cell_type": "code",
   "execution_count": null,
   "metadata": {},
   "outputs": [],
   "source": []
  },
  {
   "cell_type": "markdown",
   "metadata": {},
   "source": [
    "## Models"
   ]
  },
  {
   "cell_type": "code",
   "execution_count": null,
   "metadata": {},
   "outputs": [],
   "source": []
  },
  {
   "cell_type": "code",
   "execution_count": null,
   "metadata": {},
   "outputs": [],
   "source": []
  },
  {
   "cell_type": "code",
   "execution_count": null,
   "metadata": {},
   "outputs": [],
   "source": []
  },
  {
   "cell_type": "markdown",
   "metadata": {},
   "source": [
    "# Scratch"
   ]
  },
  {
   "cell_type": "markdown",
   "metadata": {},
   "source": [
    "## Random Forest"
   ]
  },
  {
   "cell_type": "code",
   "execution_count": null,
   "metadata": {},
   "outputs": [],
   "source": [
    "# Initiate a random forest model\n",
    "model_rf = RandomForestClassifier(random_state=8)\n",
    "model_rf.fit(X_train_tfidf, y_train)\n",
    "\n",
    "# model_accuracy(model_rf)"
   ]
  },
  {
   "cell_type": "code",
   "execution_count": null,
   "metadata": {},
   "outputs": [],
   "source": [
    "evaluate_model(model_rf, X_train=X_train_tfidf, X_test=X_test_tfidf)"
   ]
  },
  {
   "cell_type": "code",
   "execution_count": null,
   "metadata": {
    "scrolled": true
   },
   "outputs": [],
   "source": [
    "params = {\n",
    "    'n_estimators': [10, 50, 100, 150],\n",
    "    'max_depth': [10, 20, 50, None],\n",
    "    'min_samples_split': [5, 30]\n",
    "}\n",
    "\n",
    "clf_rf = RandomForestClassifier()\n",
    "gs_rf = GridSearchCV(clf_rf, param_grid=params, scoring='f1_macro', cv=3, verbose=3)\n",
    "gs_rf.fit(X_train_tfidf, y_train)"
   ]
  },
  {
   "cell_type": "code",
   "execution_count": null,
   "metadata": {},
   "outputs": [],
   "source": [
    "gs_rf.best_score_"
   ]
  },
  {
   "cell_type": "code",
   "execution_count": null,
   "metadata": {},
   "outputs": [],
   "source": [
    "gs_rf.best_params_"
   ]
  },
  {
   "cell_type": "code",
   "execution_count": null,
   "metadata": {},
   "outputs": [],
   "source": []
  },
  {
   "cell_type": "markdown",
   "metadata": {},
   "source": [
    "## LSTM"
   ]
  },
  {
   "cell_type": "code",
   "execution_count": null,
   "metadata": {},
   "outputs": [],
   "source": [
    "embedding_vecor_length = 32\n",
    "callback = EarlyStopping(monitor='val_loss', patience=2)\n",
    "\n",
    "model = Sequential()\n",
    "model.add(Embedding(input_dim=vocab_size, output_dim=embedding_dim, input_length=maxlen))\n",
    "model.add(LSTM(100, dropout=0.2, recurrent_dropout=0.2))\n",
    "model.add(Dense(1, activation='sigmoid'))\n",
    "\n",
    "model.compile(loss='binary_crossentropy', optimizer='adam', metrics=['accuracy'])\n",
    "\n",
    "print(model.summary())"
   ]
  },
  {
   "cell_type": "code",
   "execution_count": null,
   "metadata": {},
   "outputs": [],
   "source": [
    "model.fit(X_train1, y_train, epochs=10, batch_size=256,verbose = 1,validation_data=(X_valid1,y_valid),callbacks=[callback])"
   ]
  },
  {
   "cell_type": "code",
   "execution_count": null,
   "metadata": {},
   "outputs": [],
   "source": [
    "accuracy_score(y_test, model.predict_classes(X_test1))"
   ]
  },
  {
   "cell_type": "code",
   "execution_count": null,
   "metadata": {
    "scrolled": true
   },
   "outputs": [],
   "source": [
    "plot_history(history)"
   ]
  },
  {
   "cell_type": "code",
   "execution_count": null,
   "metadata": {},
   "outputs": [],
   "source": []
  },
  {
   "cell_type": "code",
   "execution_count": null,
   "metadata": {},
   "outputs": [],
   "source": [
    "import pandas as pd\n",
    "from sklearn.feature_extraction.text import CountVectorizer, TfidfVectorizer\n",
    " \n",
    "sentence_1=\"This is a good job.I will not miss it for anything\"\n",
    "sentence_2=\"This is not good at all\"\n",
    " \n",
    " \n",
    " \n",
    "#without smooth IDF\n",
    "print(\"Without Smoothing:\")\n",
    "#define tf-idf\n",
    "tf_idf_vec = TfidfVectorizer(use_idf=True, \n",
    "                        smooth_idf=False,  \n",
    "                        ngram_range=(1,1),stop_words='english') # to use only  bigrams ngram_range=(2,2)\n",
    "#transform\n",
    "tf_idf_data = tf_idf_vec.fit_transform([sentence_1,sentence_2])\n",
    " \n",
    "#create dataframe\n",
    "tf_idf_dataframe=pd.DataFrame(tf_idf_data.toarray(),columns=tf_idf_vec.get_feature_names())\n",
    "print(tf_idf_dataframe)\n",
    "print(\"\\n\")\n",
    " \n",
    "#with smooth\n",
    "tf_idf_vec_smooth = TfidfVectorizer(use_idf=True,  \n",
    "                        smooth_idf=True,  \n",
    "                        ngram_range=(1,1),stop_words='english')\n",
    " \n",
    " \n",
    "tf_idf_data_smooth = tf_idf_vec_smooth.fit_transform([sentence_1,sentence_2])\n",
    " \n",
    "print(\"With Smoothing:\")\n",
    "tf_idf_dataframe_smooth=pd.DataFrame(tf_idf_data_smooth.toarray(),columns=tf_idf_vec_smooth.get_feature_names())\n",
    "print(tf_idf_dataframe_smooth)\n"
   ]
  },
  {
   "cell_type": "code",
   "execution_count": 65,
   "metadata": {},
   "outputs": [
    {
     "name": "stdout",
     "output_type": "stream",
     "text": [
      "negative\n"
     ]
    },
    {
     "data": {
      "image/png": "[encoded data removed]",
      "text/plain": [
       "<Figure size 720x216 with 1 Axes>"
      ]
     },
     "metadata": {
      "needs_background": "light"
     },
     "output_type": "display_data"
    },
    {
     "name": "stdout",
     "output_type": "stream",
     "text": [
      "negative\n"
     ]
    },
    {
     "data": {
      "image/png": "[encoded data removed]",
      "text/plain": [
       "<Figure size 720x216 with 1 Axes>"
      ]
     },
     "metadata": {
      "needs_background": "light"
     },
     "output_type": "display_data"
    }
   ],
   "source": [
    "def plot_coefficients(classifier, feature_names, top_features=20):\n",
    "\n",
    "    # Access the coefficients from classifier\n",
    "    coef = classifier.coef_\n",
    "\n",
    "    # Access the classes\n",
    "    classes = classifier.classes_\n",
    "\n",
    "    # Iterate the loop for number of classes\n",
    "    for i in range(len(classes)):\n",
    "\n",
    "        i = 0\n",
    "        print(classes[i])\n",
    "\n",
    "        # Access the row containing the coefficients for this class\n",
    "        class_coef = coef[i]\n",
    "\n",
    "\n",
    "        # Below this, I have just replaced 'i' in your code with 'class_coef'\n",
    "        # Pass this to get top and bottom features\n",
    "        top_positive_coefficients = np.argsort(class_coef)[-top_features:]\n",
    "        top_negative_coefficients = np.argsort(class_coef)[:top_features]\n",
    "\n",
    "        # Concatenate the above two \n",
    "        top_coefficients = np.hstack([top_negative_coefficients, \n",
    "                                      top_positive_coefficients])\n",
    "        # create plot\n",
    "        plt.figure(figsize=(10, 3))\n",
    "\n",
    "        colors = [\"red\" if c < 0 else \"blue\" for c in class_coef[top_coefficients]]\n",
    "        plt.bar(np.arange(2 * top_features), class_coef[top_coefficients], color=colors)\n",
    "        feature_names = np.array(feature_names)\n",
    "\n",
    "        # Here I corrected the start to 0 (Your code has 1, which shifted the labels)\n",
    "        plt.xticks(np.arange(1, 1 + 2 * top_features), \n",
    "                   feature_names[top_coefficients], rotation=60, ha=\"right\")\n",
    "        plt.show()\n",
    "        \n",
    "plot_coefficients(tfidf_log, tfidf.get_feature_names(), top_features=20)"
   ]
  }
 ],
 "metadata": {
  "kernelspec": {
   "display_name": "learn-env",
   "language": "python",
   "name": "learn-env"
  },
  "language_info": {
   "codemirror_mode": {
    "name": "ipython",
    "version": 3
   },
   "file_extension": ".py",
   "mimetype": "text/x-python",
   "name": "python",
   "nbconvert_exporter": "python",
   "pygments_lexer": "ipython3",
   "version": "3.8.5"
  },
  "toc": {
   "base_numbering": 1,
   "nav_menu": {},
   "number_sections": true,
   "sideBar": true,
   "skip_h1_title": false,
   "title_cell": "Table of Contents",
   "title_sidebar": "Contents",
   "toc_cell": false,
   "toc_position": {
    "height": "calc(100% - 180px)",
    "left": "10px",
    "top": "150px",
    "width": "186.825px"
   },
   "toc_section_display": true,
   "toc_window_display": true
  }
 },
 "nbformat": 4,
 "nbformat_minor": 4
}
